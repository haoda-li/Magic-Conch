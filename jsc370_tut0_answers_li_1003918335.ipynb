{
 "cells": [
  {
   "cell_type": "markdown",
   "metadata": {},
   "source": [
    "# JSC370 - Hello JSC370\n",
    "\n",
    "\n",
    "## Lab 0 Workflow\n",
    "\n",
    "1. During the first hour of the lab develop a plan for how you will approach each question below. \n",
    "\n",
    "\n",
    "2. During the second half of the lab give a brief 3-5 minute presentation on how you will answer each of the questions below.\n",
    "\n",
    "\n",
    "## Instructions\n",
    "\n",
    "- Due date: Jan. 21, 17:00.\n",
    "\n",
    "\n",
    "- Make a copy of this notebook.\n",
    "\n",
    "\n",
    "- The notebook should be named: `jsc370_tut0_answers_lastname_studentnumber.ipynb`, where `lastname` is your last name, and `studentnumber` is your UofT student number.\n",
    "\n",
    "\n",
    "- Answer each questions in a separate cell. Indicate what question you are answering.  Markdown and code cells have been started for you below. Leave the initial comment in the code cell and heading (indicated by # Answer for qustion XX). For example, place your code for Question 1 in the code cell with comment # Enter your answer for Question 1 into this cell (remember not to delete this comment).\n",
    "\n",
    "\n",
    "- Make sure that you explain your solutions when asked and comment your code.\n",
    "\n",
    "\n",
    "- Commit and push changes of your answer notebook to your Github repository for this lab.\n",
    "\n",
    "\n",
    "- Submit a pdf copy of your notebook with the answers on Quercus.  "
   ]
  },
  {
   "cell_type": "markdown",
   "metadata": {},
   "source": [
    "# Assignment\n",
    "\n",
    "The [questions](#Questions) below are based on the paper: \n",
    " \n",
    "*Charig, C. R., Webb, D. R., Payne, S. R., & Wickham, J. E. (1986). Comparison of treatment of renal calculi by open surgery, percutaneous nephrolithotomy, and extracorporeal shockwave lithotripsy. Br Med J (Clin Res Ed), 292(6524), 879-882.*\n",
    "\n",
    "The paper is included in the Github repository.\n",
    "\n",
    "\n",
    "\n",
    "# Questions\n",
    "\n",
    "Use the Charig et al. paper to answer the following questions.  \n",
    "\n",
    "0. Is this an observational study or experiment?  Briefly explain. (see this [reference](http://propensityscoreanalysis.pbworks.com/f/BehStatObserv.study.rosenbaum05.pdf) for a discussion of the two types of studies)\n",
    "\n",
    "<mark>**Ignore the ESWL group in all the questions below.  In other words, all the questions below relate to the percutaneous nephrolithotomy, and open surgery subjects in the study.**</mark>\n",
    "\n",
    "\n",
    "1.  Use Python or R to write **functions** that can simulate this study's data set by returning a Pandas data frame/R data frame, with appropriate labels for columns and rows.  It should contain information on patients that received open stone removal and percutaneous removal.  In particular the data set should contain the type of procedure, the outcome of the procedure, and the size of the kidney stone.  \n",
    "\n",
    "\n",
    "2. Calculate two-way contingency tables of success versus procedure: \n",
    "\n",
    "    - among all patients; \n",
    "\n",
    "    - patients with a stone size $\\le 2cm$; and \n",
    "\n",
    "    - patients with a stone size $> 2cm$.  \n",
    "\n",
    "   What do you observe?\n",
    "\n",
    "\n",
    "\n",
    "3. Briefly explain why kidney stone size is a confounding variable.\n",
    "\n",
    "\n",
    "4. Fit two logistic regression models to predict outcome: (A) with only procedure as a covariate/feature; and (B) with procedure and size as covariates/features.  Which model gives a more accurate estimate of the odds ratio of success in open versus percutaneous?  Briefly explain.\n",
    "\n",
    "5. Construct an ROC curve for the model in 4. What is the accuracy of the model(s) in 4.?  What do you observe?\n",
    "\n",
    "\n",
    "\n",
    "6.  The [\"Objective of stratification is to fix the level of the confounders and produce groups within which the confounder does not vary. Then evaluate the exposure-outcome association within each stratum of the confounder. So within each stratum, the confounder cannot confound because it does not vary across the exposure-outcome.\"](https://www.ncbi.nlm.nih.gov/pmc/articles/PMC4017459/) Calculate the common/pooled odds-ratio (sometimes called the Mantel Haenszel odds ratio) of success in open versus percutaneous.  Does a stratified analysis seem appropriate in this case?  Compare the stratified analysis to the models in 4?    \n",
    "\n",
    "\n",
    "7. Is the odds ratio of success similar to the [relative risk](https://www.ncbi.nlm.nih.gov/books/NBK430824/) of success in this case (i.e., open vs. percutaneous)? Briefly, explain why it's the same or different? \n",
    "\n",
    "\n",
    "\n",
    "8. Which procedure (open or percutaneous) is more effective?  Explain your reasoning."
   ]
  },
  {
   "cell_type": "markdown",
   "metadata": {},
   "source": [
    "# Question 0"
   ]
  },
  {
   "cell_type": "markdown",
   "metadata": {},
   "source": [
    "This is an observational study because the treatment on the patients are not randomly assigned. The surgeons and patients must chose the method of treatment. It cannot be an experiment as choosing methods from random for each patient is not ethical and can be harmful. "
   ]
  },
  {
   "cell_type": "markdown",
   "metadata": {},
   "source": [
    "# Question 1"
   ]
  },
  {
   "cell_type": "code",
   "execution_count": 11,
   "metadata": {},
   "outputs": [
    {
     "data": {
      "text/html": [
       "<div>\n",
       "<style scoped>\n",
       "    .dataframe tbody tr th:only-of-type {\n",
       "        vertical-align: middle;\n",
       "    }\n",
       "\n",
       "    .dataframe tbody tr th {\n",
       "        vertical-align: top;\n",
       "    }\n",
       "\n",
       "    .dataframe thead th {\n",
       "        text-align: right;\n",
       "    }\n",
       "</style>\n",
       "<table border=\"1\" class=\"dataframe\">\n",
       "  <thead>\n",
       "    <tr style=\"text-align: right;\">\n",
       "      <th></th>\n",
       "      <th>group</th>\n",
       "      <th>outcome</th>\n",
       "      <th>procedure</th>\n",
       "    </tr>\n",
       "  </thead>\n",
       "  <tbody>\n",
       "    <tr>\n",
       "      <td>0</td>\n",
       "      <td>1</td>\n",
       "      <td>success</td>\n",
       "      <td>OP</td>\n",
       "    </tr>\n",
       "    <tr>\n",
       "      <td>1</td>\n",
       "      <td>1</td>\n",
       "      <td>success</td>\n",
       "      <td>OP</td>\n",
       "    </tr>\n",
       "    <tr>\n",
       "      <td>2</td>\n",
       "      <td>1</td>\n",
       "      <td>success</td>\n",
       "      <td>OP</td>\n",
       "    </tr>\n",
       "    <tr>\n",
       "      <td>3</td>\n",
       "      <td>1</td>\n",
       "      <td>success</td>\n",
       "      <td>OP</td>\n",
       "    </tr>\n",
       "    <tr>\n",
       "      <td>4</td>\n",
       "      <td>1</td>\n",
       "      <td>success</td>\n",
       "      <td>OP</td>\n",
       "    </tr>\n",
       "    <tr>\n",
       "      <td>...</td>\n",
       "      <td>...</td>\n",
       "      <td>...</td>\n",
       "      <td>...</td>\n",
       "    </tr>\n",
       "    <tr>\n",
       "      <td>695</td>\n",
       "      <td>2</td>\n",
       "      <td>fail</td>\n",
       "      <td>PN</td>\n",
       "    </tr>\n",
       "    <tr>\n",
       "      <td>696</td>\n",
       "      <td>2</td>\n",
       "      <td>fail</td>\n",
       "      <td>PN</td>\n",
       "    </tr>\n",
       "    <tr>\n",
       "      <td>697</td>\n",
       "      <td>2</td>\n",
       "      <td>fail</td>\n",
       "      <td>PN</td>\n",
       "    </tr>\n",
       "    <tr>\n",
       "      <td>698</td>\n",
       "      <td>2</td>\n",
       "      <td>fail</td>\n",
       "      <td>PN</td>\n",
       "    </tr>\n",
       "    <tr>\n",
       "      <td>699</td>\n",
       "      <td>2</td>\n",
       "      <td>fail</td>\n",
       "      <td>PN</td>\n",
       "    </tr>\n",
       "  </tbody>\n",
       "</table>\n",
       "<p>700 rows × 3 columns</p>\n",
       "</div>"
      ],
      "text/plain": [
       "     group  outcome procedure\n",
       "0        1  success        OP\n",
       "1        1  success        OP\n",
       "2        1  success        OP\n",
       "3        1  success        OP\n",
       "4        1  success        OP\n",
       "..     ...      ...       ...\n",
       "695      2     fail        PN\n",
       "696      2     fail        PN\n",
       "697      2     fail        PN\n",
       "698      2     fail        PN\n",
       "699      2     fail        PN\n",
       "\n",
       "[700 rows x 3 columns]"
      ]
     },
     "metadata": {},
     "output_type": "display_data"
    }
   ],
   "source": [
    "import numpy as np\n",
    "import pandas as pd\n",
    "\n",
    "# answer for question 1\n",
    "def generate_dataset(table_1, table_2):\n",
    "    \"\"\" table_1 will be a dataframe representing Table 1; \n",
    "        table_2 will be a dataframe representing Table 2\n",
    "    \"\"\"\n",
    "    g1_num = sum(table_1.iloc[:, 1])\n",
    "    g2_num = sum(table_1.iloc[:, 2])\n",
    "    g1_success = sum(table_2.iloc[:, 1])\n",
    "    g2_success = sum(table_2.iloc[:, 2])\n",
    "    g1_open = g1_num - table_1.iloc[-1, 1]\n",
    "\n",
    "    g1_open = g1_num - table_1.iloc[-1, 1]\n",
    "    g2_open = g2_num - table_1.iloc[-1, 2]\n",
    "\n",
    "    group = [1] * g1_num + [2] * g2_num\n",
    "    success = ['success'] * g1_success + ['fail'] * (g1_num - g1_success) + ['success'] * g2_success + ['fail'] * (g2_num - g2_success)\n",
    "    p_type = []\n",
    "    p_type += ['OP'] * table_2.iloc[0, 1] + ['PN'] * table_2.iloc[1, 1]\n",
    "    p_type += ['OP'] * (g1_open - table_2.iloc[0, 1]) + ['PN'] * (table_1.iloc[-1, 1] - table_2.iloc[1, 1])\n",
    "    p_type += ['OP'] * table_2.iloc[0, 2] + ['PN'] * table_2.iloc[1, 2]\n",
    "    p_type += ['OP'] * (g2_open - table_2.iloc[0, 2]) + ['PN'] * (table_1.iloc[-1, 2] - table_2.iloc[1, 2])\n",
    "    return pd.DataFrame({\n",
    "        'group': group,\n",
    "        'outcome': success,\n",
    "        'procedure': p_type\n",
    "    })\n",
    "\n",
    "\n",
    "table_1 = pd.DataFrame({\n",
    "    'type': ['Nephrolithotomy/pyelolithotomy', 'Pyelolithotomy', 'Ureterolithotomy', 'Percutaneous nephrolithotomy'],\n",
    "    'group1': [13, 31, 43, 270],\n",
    "    'group2': [218, 45, 0, 80]\n",
    "})\n",
    "\n",
    "table_2 = pd.DataFrame({\n",
    "    'type': ['open procedures', 'Percutaneous nephrolithotomy'],\n",
    "    'group1': [81, 234],\n",
    "    'group2': [192, 55]\n",
    "})\n",
    "\n",
    "# display(table_1, table_2)\n",
    "df= generate_dataset(table_1, table_2)\n",
    "display(df)"
   ]
  },
  {
   "cell_type": "markdown",
   "metadata": {},
   "source": [
    "# Question 2"
   ]
  },
  {
   "cell_type": "markdown",
   "metadata": {},
   "source": [
    "## Among all patients"
   ]
  },
  {
   "cell_type": "code",
   "execution_count": 16,
   "metadata": {},
   "outputs": [
    {
     "data": {
      "text/html": [
       "<div>\n",
       "<style scoped>\n",
       "    .dataframe tbody tr th:only-of-type {\n",
       "        vertical-align: middle;\n",
       "    }\n",
       "\n",
       "    .dataframe tbody tr th {\n",
       "        vertical-align: top;\n",
       "    }\n",
       "\n",
       "    .dataframe thead th {\n",
       "        text-align: right;\n",
       "    }\n",
       "</style>\n",
       "<table border=\"1\" class=\"dataframe\">\n",
       "  <thead>\n",
       "    <tr style=\"text-align: right;\">\n",
       "      <th>procedure</th>\n",
       "      <th>OP</th>\n",
       "      <th>PN</th>\n",
       "      <th>All</th>\n",
       "    </tr>\n",
       "    <tr>\n",
       "      <th>outcome</th>\n",
       "      <th></th>\n",
       "      <th></th>\n",
       "      <th></th>\n",
       "    </tr>\n",
       "  </thead>\n",
       "  <tbody>\n",
       "    <tr>\n",
       "      <td>fail</td>\n",
       "      <td>77</td>\n",
       "      <td>61</td>\n",
       "      <td>138</td>\n",
       "    </tr>\n",
       "    <tr>\n",
       "      <td>success</td>\n",
       "      <td>273</td>\n",
       "      <td>289</td>\n",
       "      <td>562</td>\n",
       "    </tr>\n",
       "    <tr>\n",
       "      <td>All</td>\n",
       "      <td>350</td>\n",
       "      <td>350</td>\n",
       "      <td>700</td>\n",
       "    </tr>\n",
       "  </tbody>\n",
       "</table>\n",
       "</div>"
      ],
      "text/plain": [
       "procedure   OP   PN  All\n",
       "outcome                 \n",
       "fail        77   61  138\n",
       "success    273  289  562\n",
       "All        350  350  700"
      ]
     },
     "metadata": {},
     "output_type": "display_data"
    }
   ],
   "source": [
    "display(pd.crosstab(df['outcome'], df['procedure'], margins=True))"
   ]
  },
  {
   "cell_type": "markdown",
   "metadata": {},
   "source": [
    "## patients with stones less than 2cm"
   ]
  },
  {
   "cell_type": "code",
   "execution_count": 14,
   "metadata": {},
   "outputs": [
    {
     "data": {
      "text/html": [
       "<div>\n",
       "<style scoped>\n",
       "    .dataframe tbody tr th:only-of-type {\n",
       "        vertical-align: middle;\n",
       "    }\n",
       "\n",
       "    .dataframe tbody tr th {\n",
       "        vertical-align: top;\n",
       "    }\n",
       "\n",
       "    .dataframe thead th {\n",
       "        text-align: right;\n",
       "    }\n",
       "</style>\n",
       "<table border=\"1\" class=\"dataframe\">\n",
       "  <thead>\n",
       "    <tr style=\"text-align: right;\">\n",
       "      <th>procedure</th>\n",
       "      <th>OP</th>\n",
       "      <th>PN</th>\n",
       "      <th>All</th>\n",
       "    </tr>\n",
       "    <tr>\n",
       "      <th>outcome</th>\n",
       "      <th></th>\n",
       "      <th></th>\n",
       "      <th></th>\n",
       "    </tr>\n",
       "  </thead>\n",
       "  <tbody>\n",
       "    <tr>\n",
       "      <td>fail</td>\n",
       "      <td>6</td>\n",
       "      <td>36</td>\n",
       "      <td>42</td>\n",
       "    </tr>\n",
       "    <tr>\n",
       "      <td>success</td>\n",
       "      <td>81</td>\n",
       "      <td>234</td>\n",
       "      <td>315</td>\n",
       "    </tr>\n",
       "    <tr>\n",
       "      <td>All</td>\n",
       "      <td>87</td>\n",
       "      <td>270</td>\n",
       "      <td>357</td>\n",
       "    </tr>\n",
       "  </tbody>\n",
       "</table>\n",
       "</div>"
      ],
      "text/plain": [
       "procedure  OP   PN  All\n",
       "outcome                \n",
       "fail        6   36   42\n",
       "success    81  234  315\n",
       "All        87  270  357"
      ]
     },
     "metadata": {},
     "output_type": "display_data"
    }
   ],
   "source": [
    "df_1 = df.loc[df.group == 1]\n",
    "display(pd.crosstab(df_1['outcome'], df_1['procedure'], margins=True),)"
   ]
  },
  {
   "cell_type": "markdown",
   "metadata": {},
   "source": [
    "## patients with stones greater or equal to 2cm"
   ]
  },
  {
   "cell_type": "code",
   "execution_count": 15,
   "metadata": {},
   "outputs": [
    {
     "data": {
      "text/html": [
       "<div>\n",
       "<style scoped>\n",
       "    .dataframe tbody tr th:only-of-type {\n",
       "        vertical-align: middle;\n",
       "    }\n",
       "\n",
       "    .dataframe tbody tr th {\n",
       "        vertical-align: top;\n",
       "    }\n",
       "\n",
       "    .dataframe thead th {\n",
       "        text-align: right;\n",
       "    }\n",
       "</style>\n",
       "<table border=\"1\" class=\"dataframe\">\n",
       "  <thead>\n",
       "    <tr style=\"text-align: right;\">\n",
       "      <th>procedure</th>\n",
       "      <th>OP</th>\n",
       "      <th>PN</th>\n",
       "      <th>All</th>\n",
       "    </tr>\n",
       "    <tr>\n",
       "      <th>outcome</th>\n",
       "      <th></th>\n",
       "      <th></th>\n",
       "      <th></th>\n",
       "    </tr>\n",
       "  </thead>\n",
       "  <tbody>\n",
       "    <tr>\n",
       "      <td>fail</td>\n",
       "      <td>71</td>\n",
       "      <td>25</td>\n",
       "      <td>96</td>\n",
       "    </tr>\n",
       "    <tr>\n",
       "      <td>success</td>\n",
       "      <td>192</td>\n",
       "      <td>55</td>\n",
       "      <td>247</td>\n",
       "    </tr>\n",
       "    <tr>\n",
       "      <td>All</td>\n",
       "      <td>263</td>\n",
       "      <td>80</td>\n",
       "      <td>343</td>\n",
       "    </tr>\n",
       "  </tbody>\n",
       "</table>\n",
       "</div>"
      ],
      "text/plain": [
       "procedure   OP  PN  All\n",
       "outcome                \n",
       "fail        71  25   96\n",
       "success    192  55  247\n",
       "All        263  80  343"
      ]
     },
     "metadata": {},
     "output_type": "display_data"
    }
   ],
   "source": [
    "df_2 = df.loc[df.group == 2]\n",
    "display(pd.crosstab(df_2['outcome'], df_2['procedure'], margins=True))"
   ]
  },
  {
   "cell_type": "markdown",
   "metadata": {},
   "source": [
    "## Observation \n",
    "Although the total number of patients under open procedure and percutaneous nephrolithotomy are the same. Most patients with small stones (group 1) are treated with percutaneous nephrolithotomy, while most patients with large stones (group2) are treated with open surgery procedure.  \n",
    "Also, notice that open procedure out-performs percutaneous nephrolithotomy in both groups. However, percutaneous nephrolithotomy have a higher overall success rate when we combine the groups together. "
   ]
  },
  {
   "cell_type": "markdown",
   "metadata": {},
   "source": [
    "# Question 3"
   ]
  },
  {
   "cell_type": "markdown",
   "metadata": {},
   "source": [
    "First, from the observation above we noticed the Simpson's paradox happening to our data. This is an indication of the existence of a confounding variable. \n",
    "\n",
    "Also, note that stone size have impact on both the outcome and the chosen procedure. Specifically, success rate are much lower for large size stones and the choice of procedure are highly dependent on the stone size. Since the stone size influenced both variables, it is by definition a confounding variable. "
   ]
  },
  {
   "cell_type": "markdown",
   "metadata": {},
   "source": [
    "# Question 4"
   ]
  },
  {
   "cell_type": "code",
   "execution_count": 5,
   "metadata": {
    "scrolled": false
   },
   "outputs": [
    {
     "data": {
      "text/html": [
       "<table class=\"simpletable\">\n",
       "<caption>Generalized Linear Model Regression Results</caption>\n",
       "<tr>\n",
       "  <th>Dep. Variable:</th>   <td>['outcome[False]', 'outcome[True]']</td> <th>  No. Observations:  </th>  <td>   700</td> \n",
       "</tr>\n",
       "<tr>\n",
       "  <th>Model:</th>                           <td>GLM</td>                 <th>  Df Residuals:      </th>  <td>   698</td> \n",
       "</tr>\n",
       "<tr>\n",
       "  <th>Model Family:</th>                 <td>Binomial</td>               <th>  Df Model:          </th>  <td>     1</td> \n",
       "</tr>\n",
       "<tr>\n",
       "  <th>Link Function:</th>                  <td>logit</td>                <th>  Scale:             </th> <td>  1.0000</td>\n",
       "</tr>\n",
       "<tr>\n",
       "  <th>Method:</th>                         <td>IRLS</td>                 <th>  Log-Likelihood:    </th> <td> -346.33</td>\n",
       "</tr>\n",
       "<tr>\n",
       "  <th>Date:</th>                     <td>Tue, 14 Jan 2020</td>           <th>  Deviance:          </th> <td>  692.67</td>\n",
       "</tr>\n",
       "<tr>\n",
       "  <th>Time:</th>                         <td>19:02:05</td>               <th>  Pearson chi2:      </th>  <td>  700.</td> \n",
       "</tr>\n",
       "<tr>\n",
       "  <th>No. Iterations:</th>                   <td>4</td>                  <th>                     </th>     <td> </td>   \n",
       "</tr>\n",
       "<tr>\n",
       "  <th>Covariance Type:</th>              <td>nonrobust</td>              <th>                     </th>     <td> </td>   \n",
       "</tr>\n",
       "</table>\n",
       "<table class=\"simpletable\">\n",
       "<tr>\n",
       "         <td></td>            <th>coef</th>     <th>std err</th>      <th>z</th>      <th>P>|z|</th>  <th>[0.025</th>    <th>0.975]</th>  \n",
       "</tr>\n",
       "<tr>\n",
       "  <th>Intercept</th>       <td>   -1.2657</td> <td>    0.129</td> <td>   -9.809</td> <td> 0.000</td> <td>   -1.519</td> <td>   -1.013</td>\n",
       "</tr>\n",
       "<tr>\n",
       "  <th>procedure[T.PN]</th> <td>   -0.2899</td> <td>    0.191</td> <td>   -1.517</td> <td> 0.129</td> <td>   -0.664</td> <td>    0.085</td>\n",
       "</tr>\n",
       "</table>"
      ],
      "text/plain": [
       "<class 'statsmodels.iolib.summary.Summary'>\n",
       "\"\"\"\n",
       "                          Generalized Linear Model Regression Results                          \n",
       "===============================================================================================\n",
       "Dep. Variable:     ['outcome[False]', 'outcome[True]']   No. Observations:                  700\n",
       "Model:                                             GLM   Df Residuals:                      698\n",
       "Model Family:                                 Binomial   Df Model:                            1\n",
       "Link Function:                                   logit   Scale:                          1.0000\n",
       "Method:                                           IRLS   Log-Likelihood:                -346.33\n",
       "Date:                                 Tue, 14 Jan 2020   Deviance:                       692.67\n",
       "Time:                                         19:02:05   Pearson chi2:                     700.\n",
       "No. Iterations:                                      4                                         \n",
       "Covariance Type:                             nonrobust                                         \n",
       "===================================================================================\n",
       "                      coef    std err          z      P>|z|      [0.025      0.975]\n",
       "-----------------------------------------------------------------------------------\n",
       "Intercept          -1.2657      0.129     -9.809      0.000      -1.519      -1.013\n",
       "procedure[T.PN]    -0.2899      0.191     -1.517      0.129      -0.664       0.085\n",
       "===================================================================================\n",
       "\"\"\""
      ]
     },
     "metadata": {},
     "output_type": "display_data"
    },
    {
     "data": {
      "text/html": [
       "<table class=\"simpletable\">\n",
       "<caption>Generalized Linear Model Regression Results</caption>\n",
       "<tr>\n",
       "  <th>Dep. Variable:</th>   <td>['outcome[False]', 'outcome[True]']</td> <th>  No. Observations:  </th>  <td>   700</td> \n",
       "</tr>\n",
       "<tr>\n",
       "  <th>Model:</th>                           <td>GLM</td>                 <th>  Df Residuals:      </th>  <td>   697</td> \n",
       "</tr>\n",
       "<tr>\n",
       "  <th>Model Family:</th>                 <td>Binomial</td>               <th>  Df Model:          </th>  <td>     2</td> \n",
       "</tr>\n",
       "<tr>\n",
       "  <th>Link Function:</th>                  <td>logit</td>                <th>  Scale:             </th> <td>  1.0000</td>\n",
       "</tr>\n",
       "<tr>\n",
       "  <th>Method:</th>                         <td>IRLS</td>                 <th>  Log-Likelihood:    </th> <td> -331.43</td>\n",
       "</tr>\n",
       "<tr>\n",
       "  <th>Date:</th>                     <td>Tue, 14 Jan 2020</td>           <th>  Deviance:          </th> <td>  662.87</td>\n",
       "</tr>\n",
       "<tr>\n",
       "  <th>Time:</th>                         <td>19:02:05</td>               <th>  Pearson chi2:      </th>  <td>  696.</td> \n",
       "</tr>\n",
       "<tr>\n",
       "  <th>No. Iterations:</th>                   <td>5</td>                  <th>                     </th>     <td> </td>   \n",
       "</tr>\n",
       "<tr>\n",
       "  <th>Covariance Type:</th>              <td>nonrobust</td>              <th>                     </th>     <td> </td>   \n",
       "</tr>\n",
       "</table>\n",
       "<table class=\"simpletable\">\n",
       "<tr>\n",
       "         <td></td>            <th>coef</th>     <th>std err</th>      <th>z</th>      <th>P>|z|</th>  <th>[0.025</th>    <th>0.975]</th>  \n",
       "</tr>\n",
       "<tr>\n",
       "  <th>Intercept</th>       <td>   -2.2938</td> <td>    0.247</td> <td>   -9.289</td> <td> 0.000</td> <td>   -2.778</td> <td>   -1.810</td>\n",
       "</tr>\n",
       "<tr>\n",
       "  <th>procedure[T.PN]</th> <td>    0.3572</td> <td>    0.229</td> <td>    1.559</td> <td> 0.119</td> <td>   -0.092</td> <td>    0.806</td>\n",
       "</tr>\n",
       "<tr>\n",
       "  <th>C(group)[T.2]</th>   <td>    1.2606</td> <td>    0.239</td> <td>    5.274</td> <td> 0.000</td> <td>    0.792</td> <td>    1.729</td>\n",
       "</tr>\n",
       "</table>"
      ],
      "text/plain": [
       "<class 'statsmodels.iolib.summary.Summary'>\n",
       "\"\"\"\n",
       "                          Generalized Linear Model Regression Results                          \n",
       "===============================================================================================\n",
       "Dep. Variable:     ['outcome[False]', 'outcome[True]']   No. Observations:                  700\n",
       "Model:                                             GLM   Df Residuals:                      697\n",
       "Model Family:                                 Binomial   Df Model:                            2\n",
       "Link Function:                                   logit   Scale:                          1.0000\n",
       "Method:                                           IRLS   Log-Likelihood:                -331.43\n",
       "Date:                                 Tue, 14 Jan 2020   Deviance:                       662.87\n",
       "Time:                                         19:02:05   Pearson chi2:                     696.\n",
       "No. Iterations:                                      5                                         \n",
       "Covariance Type:                             nonrobust                                         \n",
       "===================================================================================\n",
       "                      coef    std err          z      P>|z|      [0.025      0.975]\n",
       "-----------------------------------------------------------------------------------\n",
       "Intercept          -2.2938      0.247     -9.289      0.000      -2.778      -1.810\n",
       "procedure[T.PN]     0.3572      0.229      1.559      0.119      -0.092       0.806\n",
       "C(group)[T.2]       1.2606      0.239      5.274      0.000       0.792       1.729\n",
       "===================================================================================\n",
       "\"\"\""
      ]
     },
     "metadata": {},
     "output_type": "display_data"
    }
   ],
   "source": [
    "import statsmodels.api as sm\n",
    "import statsmodels.formula.api as smf\n",
    "df['outcome'] = df['outcome'] == 'success'\n",
    "m1 = smf.glm(formula='outcome ~ procedure', \n",
    "             data=df, \n",
    "             family=sm.families.Binomial()).fit()\n",
    "display(m1.summary())\n",
    "\n",
    "m2 = smf.glm(formula='outcome ~ procedure + C(group)', \n",
    "             data=df, \n",
    "             family=sm.families.Binomial()).fit()\n",
    "display(m2.summary())"
   ]
  },
  {
   "cell_type": "markdown",
   "metadata": {},
   "source": [
    "Model 2 (model with the size feature) is better, the likelihood for model 2 is higher than model 1. "
   ]
  },
  {
   "cell_type": "markdown",
   "metadata": {},
   "source": [
    "# Question 5"
   ]
  },
  {
   "cell_type": "code",
   "execution_count": 10,
   "metadata": {},
   "outputs": [
    {
     "data": {
      "image/png": "[encoded data removed]",
      "text/plain": [
       "<Figure size 432x288 with 1 Axes>"
      ]
     },
     "metadata": {
      "needs_background": "light"
     },
     "output_type": "display_data"
    }
   ],
   "source": [
    "from sklearn.metrics import roc_curve\n",
    "import matplotlib.pyplot as plt\n",
    "\n",
    "p1 = m1.predict(df)\n",
    "p2 = m2.predict(df)\n",
    "t = df['outcome']\n",
    "\n",
    "plt.plot([0, 1], [0, 1], ls='--', label=\"base line\")\n",
    "fpr, tpr, _ = roc_curve(t, p1)\n",
    "plt.plot(tpr, fpr, label=\"model 1\")\n",
    "fpr, tpr, _ = roc_curve(t, p2)\n",
    "plt.plot(tpr, fpr, label=\"model 2\")\n",
    "plt.xlabel('False Positive Rate')\n",
    "plt.ylabel('True Positive Rate')\n",
    "plt.title('Receiver operating characteristic curve')\n",
    "plt.legend();"
   ]
  },
  {
   "cell_type": "code",
   "execution_count": 19,
   "metadata": {},
   "outputs": [],
   "source": [
    "from statsmodels.stats.contingency_tables import StratifiedTable\n",
    "# https://www.statsmodels.org/dev/generated/statsmodels.stats.contingency_tables.StratifiedTable.html\n",
    "# StratifiedTable();\n",
    "# oddsratio_pooled"
   ]
  }
 ],
 "metadata": {
  "hide_input": false,
  "kernelspec": {
   "display_name": "Python 3",
   "language": "python",
   "name": "python3"
  },
  "language_info": {
   "codemirror_mode": {
    "name": "ipython",
    "version": 3
   },
   "file_extension": ".py",
   "mimetype": "text/x-python",
   "name": "python",
   "nbconvert_exporter": "python",
   "pygments_lexer": "ipython3",
   "version": "3.7.4"
  }
 },
 "nbformat": 4,
 "nbformat_minor": 2
}
